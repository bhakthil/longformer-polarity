{
 "cells": [
  {
   "cell_type": "code",
   "execution_count": 1,
   "id": "e03c46bc",
   "metadata": {},
   "outputs": [],
   "source": [
    "import datasets\n",
    "from datasets import list_datasets, load_dataset, list_metrics, load_metric\n",
    "datasets_list = list_datasets()\n",
    "import torch\n",
    "import re\n",
    "#import bleach\n",
    "#from bs4 import BeautifulSoup"
   ]
  },
  {
   "cell_type": "code",
   "execution_count": null,
   "id": "d3388cd1",
   "metadata": {},
   "outputs": [
    {
     "name": "stdout",
     "output_type": "stream",
     "text": [
      "Downloading and preparing dataset hyperpartisan_news_detection/bypublisher (download: 956.72 MiB, generated: 5.23 GiB, post-processed: Unknown size, total: 6.16 GiB) to /home/bhakthi/.cache/huggingface/datasets/hyperpartisan_news_detection/bypublisher/1.0.0/7f4215b0474950ddf516e806400ab81d098b3da3b3a919a13cd1a4cf2c677012...\n"
     ]
    },
    {
     "data": {
      "application/vnd.jupyter.widget-view+json": {
       "model_id": "9c08feff3a7743efaa9a3136d977d027",
       "version_major": 2,
       "version_minor": 0
      },
      "text/plain": [
       "  0%|          | 0/2 [00:00<?, ?it/s]"
      ]
     },
     "metadata": {},
     "output_type": "display_data"
    },
    {
     "data": {
      "application/vnd.jupyter.widget-view+json": {
       "model_id": "c07ea51cbedc48cf83a182ff6019ec77",
       "version_major": 2,
       "version_minor": 0
      },
      "text/plain": [
       "  0%|          | 0/2 [00:00<?, ?it/s]"
      ]
     },
     "metadata": {},
     "output_type": "display_data"
    },
    {
     "data": {
      "application/vnd.jupyter.widget-view+json": {
       "model_id": "2c9b6628b6fa4a38992bdbc4910a84ed",
       "version_major": 2,
       "version_minor": 0
      },
      "text/plain": [
       "  0%|          | 0/2 [00:00<?, ?it/s]"
      ]
     },
     "metadata": {},
     "output_type": "display_data"
    },
    {
     "data": {
      "application/vnd.jupyter.widget-view+json": {
       "model_id": "d5ce2d2d9f7a45a18ef11f0dd2c1f650",
       "version_major": 2,
       "version_minor": 0
      },
      "text/plain": [
       "  0%|          | 0/2 [00:00<?, ?it/s]"
      ]
     },
     "metadata": {},
     "output_type": "display_data"
    },
    {
     "data": {
      "application/vnd.jupyter.widget-view+json": {
       "model_id": "2f02096dd16f4fa2aa78ab0a2a76030f",
       "version_major": 2,
       "version_minor": 0
      },
      "text/plain": [
       "0 examples [00:00, ? examples/s]"
      ]
     },
     "metadata": {},
     "output_type": "display_data"
    }
   ],
   "source": [
    "dataset  = datasets.load_dataset('hyperpartisan_news_detection', 'bypublisher')\n",
    "dataset\n"
   ]
  },
  {
   "cell_type": "code",
   "execution_count": 1,
   "id": "fc6bd293",
   "metadata": {},
   "outputs": [
    {
     "ename": "NameError",
     "evalue": "name 'dataset' is not defined",
     "output_type": "error",
     "traceback": [
      "\u001b[0;31m---------------------------------------------------------------------------\u001b[0m",
      "\u001b[0;31mNameError\u001b[0m                                 Traceback (most recent call last)",
      "\u001b[0;32m/tmp/ipykernel_226333/4218764812.py\u001b[0m in \u001b[0;36m<module>\u001b[0;34m\u001b[0m\n\u001b[0;32m----> 1\u001b[0;31m \u001b[0mdataset\u001b[0m\u001b[0;34m[\u001b[0m\u001b[0;34m'train'\u001b[0m\u001b[0;34m]\u001b[0m\u001b[0;34m\u001b[0m\u001b[0;34m\u001b[0m\u001b[0m\n\u001b[0m",
      "\u001b[0;31mNameError\u001b[0m: name 'dataset' is not defined"
     ]
    }
   ],
   "source": [
    "dataset['train']"
   ]
  },
  {
   "cell_type": "code",
   "execution_count": null,
   "id": "1a56170e",
   "metadata": {},
   "outputs": [],
   "source": [
    "def clean_text(text, label):\n",
    "    \"\"\" Clean the input text and remove special characters \"\"\"\n",
    "#     soup = BeautifulSoup(text)\n",
    "    text = bleach.clean(text,strip=True)\n",
    "    text = text.replace('<p>', '')\n",
    "    text = text.replace('</p>', '')\n",
    "    text = text.replace('\\n', '')\n",
    "    text = text.replace('&amp;#160;', '')\n",
    "    text = re.sub(r'^https?:\\/\\/.*[\\r\\n]*', '', text, flags=re.MULTILINE)\n",
    "    if str(label) == 'True':\n",
    "        new_label = 1\n",
    "    else:\n",
    "        new_label = 0\n",
    "    return text, new_label\n",
    "\n",
    "\n",
    "def convert_to_features(example):\n",
    "    # Tokenize contexts and questions (as pairs of inputs)\n",
    "    text_, target_ = clean_text(example['text'], example['hyperpartisan'])\n",
    "    encodings = tokenizer.encode_plus(text_, pad_to_max_length=True, max_length=2048,\n",
    "                                           add_special_tokens=True,\n",
    "                                            return_token_type_ids=False,\n",
    "                                            return_attention_mask=True,\n",
    "                                            padding='max_length', truncation=True,\n",
    "                                           )\n",
    "    targets = torch.tensor(target_,dtype=torch.long)\n",
    "    \n",
    "\n",
    "    encodings.update({'targets': targets,\n",
    "                      'attention_mask': encodings['attention_mask']})\n",
    "    return encodings"
   ]
  },
  {
   "cell_type": "code",
   "execution_count": null,
   "id": "f2e24ba3",
   "metadata": {},
   "outputs": [],
   "source": [
    "from transformers import LongformerTokenizer\n",
    "tokenizer = LongformerTokenizer.from_pretrained('allenai/longformer-base-4096')"
   ]
  },
  {
   "cell_type": "code",
   "execution_count": null,
   "id": "b3bae241",
   "metadata": {},
   "outputs": [],
   "source": []
  }
 ],
 "metadata": {
  "kernelspec": {
   "display_name": "Python 3 (ipykernel)",
   "language": "python",
   "name": "python3"
  },
  "language_info": {
   "codemirror_mode": {
    "name": "ipython",
    "version": 3
   },
   "file_extension": ".py",
   "mimetype": "text/x-python",
   "name": "python",
   "nbconvert_exporter": "python",
   "pygments_lexer": "ipython3",
   "version": "3.8.10"
  }
 },
 "nbformat": 4,
 "nbformat_minor": 5
}
